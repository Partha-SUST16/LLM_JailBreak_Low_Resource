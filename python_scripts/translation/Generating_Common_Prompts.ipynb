{
  "nbformat": 4,
  "nbformat_minor": 0,
  "metadata": {
    "colab": {
      "provenance": [],
      "include_colab_link": true
    },
    "kernelspec": {
      "name": "python3",
      "display_name": "Python 3"
    },
    "language_info": {
      "name": "python"
    }
  },
  "cells": [
    {
      "cell_type": "markdown",
      "metadata": {
        "id": "view-in-github",
        "colab_type": "text"
      },
      "source": [
        "<a href=\"https://colab.research.google.com/github/Partha-SUST16/LLM_JailBreak_Low_Resource/blob/main/python_scripts/Generating_Common_Prompts.ipynb\" target=\"_parent\"><img src=\"https://colab.research.google.com/assets/colab-badge.svg\" alt=\"Open In Colab\"/></a>"
      ]
    },
    {
      "cell_type": "code",
      "execution_count": null,
      "metadata": {
        "colab": {
          "base_uri": "https://localhost:8080/"
        },
        "id": "sQCi1cM67liV",
        "outputId": "273e8615-7ef1-4428-b734-c1545fa2bb12"
      },
      "outputs": [
        {
          "output_type": "stream",
          "name": "stdout",
          "text": [
            "Mounted at /content/drive\n"
          ]
        }
      ],
      "source": [
        "# prompt: mount google drive\n",
        "\n",
        "from google.colab import drive\n",
        "drive.mount('/content/drive')\n"
      ]
    },
    {
      "cell_type": "code",
      "source": [
        "# prompt: sort each of the dataframes in dataframes.items(): by cosine_similarity in a descending order and keep only top 500\n",
        "\n",
        "from google.colab import drive\n",
        "import pandas as pd\n",
        "import os\n",
        "from sklearn.metrics.pairwise import cosine_similarity\n",
        "import numpy as np\n",
        "\n",
        "drive.mount('/content/drive')\n",
        "\n",
        "# Define the folder path\n",
        "folder_path = '/content/drive/MyDrive/CPSC 538P Project (Computer Security)/Translated Prompt V2/'\n",
        "\n",
        "# List all CSV files in the folder\n",
        "csv_files = [file for file in os.listdir(folder_path) if file.endswith('translated_prompts_with_similarity.csv')]\n",
        "\n",
        "# Sort the files to ensure consistent naming (optional)\n",
        "csv_files.sort()\n",
        "\n",
        "# Read each CSV file and store it in a dictionary of DataFrames\n",
        "dataframes = {}\n",
        "for i, file in enumerate(csv_files, start=1):\n",
        "    df_name = f'df{i}'  # Create a name like df1, df2, etc.\n",
        "    file_path = os.path.join(folder_path, file)\n",
        "    dataframes[df_name] = pd.read_csv(file_path)\n",
        "\n",
        "# Assuming 'cosine_similarity' is a column in your dataframes\n",
        "for df_name, df in dataframes.items():\n",
        "    if 'cosine_similarity' not in df.columns:\n",
        "        print(f\"Warning: 'cosine_similarity' column not found in {df_name}. Skipping sorting.\")\n",
        "        continue\n",
        "\n",
        "    # Sort by cosine_similarity in descending order\n",
        "    df_sorted = df.sort_values(by='cosine_similarity', ascending=False)\n",
        "\n",
        "    # Keep only the top 500\n",
        "    df_top_500 = df_sorted.head(1500)\n",
        "\n",
        "    # Update the dataframe in the dictionary\n",
        "    dataframes[df_name] = df_top_500\n",
        "\n",
        "# Print the first few rows of each DataFrame to verify\n",
        "for name, df in dataframes.items():\n",
        "    print(f\"{name}:\")\n",
        "    print(len(df))\n",
        "    # print(df.head())\n",
        "\n",
        "    print(\"\\n\")\n"
      ],
      "metadata": {
        "colab": {
          "base_uri": "https://localhost:8080/"
        },
        "collapsed": true,
        "id": "Q_3GRBEX9fMA",
        "outputId": "867c23de-feb0-4b54-8541-b259824efd02"
      },
      "execution_count": null,
      "outputs": [
        {
          "output_type": "stream",
          "name": "stdout",
          "text": [
            "Drive already mounted at /content/drive; to attempt to forcibly remount, call drive.mount(\"/content/drive\", force_remount=True).\n",
            "df1:\n",
            "1500\n",
            "\n",
            "\n",
            "df2:\n",
            "1500\n",
            "\n",
            "\n",
            "df3:\n",
            "1500\n",
            "\n",
            "\n",
            "df4:\n",
            "1500\n",
            "\n",
            "\n",
            "df5:\n",
            "1500\n",
            "\n",
            "\n",
            "df6:\n",
            "1500\n",
            "\n",
            "\n",
            "df7:\n",
            "1500\n",
            "\n",
            "\n",
            "df8:\n",
            "1500\n",
            "\n",
            "\n",
            "df9:\n",
            "1500\n",
            "\n",
            "\n"
          ]
        }
      ]
    },
    {
      "cell_type": "code",
      "source": [
        "import pandas as pd\n",
        "from functools import reduce\n",
        "\n",
        "# Assume dataframes is a dictionary containing df1 to df9\n",
        "dataframes_list = [dataframes[f'df{i}'] for i in range(1, 10)]\n",
        "\n",
        "# Extract only the 'id' column from each DataFrame for merging\n",
        "common_idx = reduce(\n",
        "    lambda left, right: pd.merge(left, right, on='id', how='inner'),\n",
        "    [df[['id']] for df in dataframes_list]\n",
        ")['id']\n",
        "\n",
        "# Filter, sort, and extract required information\n",
        "filtered_dataframes = [df[df['id'].isin(common_idx)].sort_values(by='id') for df in dataframes_list]\n",
        "\n",
        "# Compute lowest cosine similarity & unique language for each DataFrame\n",
        "for i, df in enumerate(filtered_dataframes, start=1):\n",
        "    # Find the lowest cosine similarity\n",
        "    min_cosine_similarity = df['cosine_similarity'].min() if 'cosine_similarity' in df.columns else None\n",
        "\n",
        "    # Extract unique language (since it's the same for all rows)\n",
        "    language = df['language'].iloc[0] if 'language' in df.columns and not df['language'].empty else None\n",
        "\n",
        "    print(f\"Filtered and sorted df{i}: {len(df)} rows\")\n",
        "    print(f\"Lowest Cosine Similarity: {min_cosine_similarity}\")\n",
        "    print(f\"Language: {language}\")\n",
        "    # print(df.head(), \"\\n\")\n",
        "\n",
        "result_df = pd.DataFrame({'id': common_idx})\n",
        "\n",
        "# Add cosine similarity values using only the language as column names\n",
        "language_columns = []  # Store language column names for later processing\n",
        "\n",
        "for i, df in enumerate(filtered_dataframes, start=1):\n",
        "    # print(\"......................................................\")\n",
        "    language = df['language'].iloc[0] if 'language' in df.columns and not df['language'].empty else f\"Language_{i}\"\n",
        "    # print(language)\n",
        "    # if language == \"Nepal (Nepali)\":\n",
        "    #     continue\n",
        "    print(f\"Adding cosine similarity values from df{i} with language: {language}\")\n",
        "\n",
        "    # Rename 'cosine_similarity' column to language name\n",
        "    temp_df = df[['id', 'cosine_similarity']].rename(columns={'cosine_similarity': language})\n",
        "    language_columns.append(language)  # Store the column name\n",
        "\n",
        "    # Merge with the result dataframe\n",
        "    result_df = result_df.merge(temp_df, on='id', how='left')\n",
        "\n",
        "# Compute the minimum cosine similarity across all language columns for each row\n",
        "result_df[\"min_cosine_similarity\"] = result_df[language_columns].min(axis=1)\n",
        "# Save the result to a CSV file\n",
        "output_file = \"/content/drive/MyDrive/CPSC 538P Project (Computer Security)/Translated Prompt V2/cosine_similarities.csv\"\n",
        "result_df.to_csv(output_file, index=False)\n",
        "\n",
        "print(f\"Cosine similarity data saved to: {output_file}\")"
      ],
      "metadata": {
        "colab": {
          "base_uri": "https://localhost:8080/"
        },
        "collapsed": true,
        "id": "OWD17XxN8-f3",
        "outputId": "fcb8cf5b-02cb-4e6a-9a6e-5e8f825a0160"
      },
      "execution_count": null,
      "outputs": [
        {
          "output_type": "stream",
          "name": "stdout",
          "text": [
            "Filtered and sorted df1: 446 rows\n",
            "Lowest Cosine Similarity: 0.7439904005180051\n",
            "Language: Bangladesh (Bengali)\n",
            "Filtered and sorted df2: 446 rows\n",
            "Lowest Cosine Similarity: 0.6066953947389107\n",
            "Language: Maldives (Dhivehi)\n",
            "Filtered and sorted df3: 446 rows\n",
            "Lowest Cosine Similarity: 0.3525837972718274\n",
            "Language: Bhutan (Dzongkha)\n",
            "Filtered and sorted df4: 446 rows\n",
            "Lowest Cosine Similarity: 0.765993333244503\n",
            "Language: India (Hindi)\n",
            "Filtered and sorted df5: 446 rows\n",
            "Lowest Cosine Similarity: 0.2911939789365695\n",
            "Language: Nepal (Nepali)\n",
            "Filtered and sorted df6: 446 rows\n",
            "Lowest Cosine Similarity: 0.5333842147468069\n",
            "Language: Afghanistan (Pashto)\n",
            "Filtered and sorted df7: 446 rows\n",
            "Lowest Cosine Similarity: 0.3527072575323738\n",
            "Language: Sri Lanka (Sinhala)\n",
            "Filtered and sorted df8: 446 rows\n",
            "Lowest Cosine Similarity: 0.6243086466500163\n",
            "Language: Sri Lanka (Tamil)\n",
            "Filtered and sorted df9: 446 rows\n",
            "Lowest Cosine Similarity: 0.6842410366255928\n",
            "Language: Pakistan (Urdu)\n",
            "Adding cosine similarity values from df1 with language: Bangladesh (Bengali)\n",
            "Adding cosine similarity values from df2 with language: Maldives (Dhivehi)\n",
            "Adding cosine similarity values from df3 with language: Bhutan (Dzongkha)\n",
            "Adding cosine similarity values from df4 with language: India (Hindi)\n",
            "Adding cosine similarity values from df5 with language: Nepal (Nepali)\n",
            "Adding cosine similarity values from df6 with language: Afghanistan (Pashto)\n",
            "Adding cosine similarity values from df7 with language: Sri Lanka (Sinhala)\n",
            "Adding cosine similarity values from df8 with language: Sri Lanka (Tamil)\n",
            "Adding cosine similarity values from df9 with language: Pakistan (Urdu)\n",
            "Cosine similarity data saved to: /content/drive/MyDrive/CPSC 538P Project (Computer Security)/Translated Prompt V2/cosine_similarities.csv\n"
          ]
        }
      ]
    },
    {
      "cell_type": "code",
      "source": [
        "import pandas as pd\n",
        "\n",
        "# File path\n",
        "file_path = \"/content/drive/MyDrive/UBC CS/CPSC 538P Project (Computer Security)/Translated Prompt V2/ne_translated_prompts_with_similarity.csv\"\n",
        "\n",
        "# Load the CSV\n",
        "df = pd.read_csv(file_path)\n",
        "\n",
        "# Check if 'cosine_similarity' column exists\n",
        "if 'min_cosine_similarity' in result_df.columns:\n",
        "    count_above_0_5 = (result_df['min_cosine_similarity'] > 0.8).sum()\n",
        "    print(f\"Number of rows with cosine_similarity: {count_above_0_5}\")\n",
        "else:\n",
        "    print(\"Column 'cosine_similarity' not found in the dataset.\")\n"
      ],
      "metadata": {
        "colab": {
          "base_uri": "https://localhost:8080/"
        },
        "id": "HfM9wwti-byv",
        "outputId": "df7e448d-0693-4bbf-af70-0266f5aff55b"
      },
      "execution_count": null,
      "outputs": [
        {
          "output_type": "stream",
          "name": "stdout",
          "text": [
            "Number of rows with cosine_similarity: 0\n"
          ]
        }
      ]
    },
    {
      "cell_type": "code",
      "source": [
        "import csv\n",
        "\n",
        "def extract_prompts(fileA, fileB, output_file):\n",
        "    # Step 1: Read the IDs from fileB into a set\n",
        "    ids_in_fileB = set()\n",
        "    with open(fileB, mode=\"r\", encoding=\"utf-8\") as bfile:\n",
        "        reader = csv.DictReader(bfile)\n",
        "        for row in reader:\n",
        "            ids_in_fileB.add(row[\"id\"])  # Assuming 'id' is the column name in fileB\n",
        "\n",
        "    # Step 2: Read fileA and extract rows with matching IDs\n",
        "    matching_rows = []\n",
        "    with open(fileA, mode=\"r\", encoding=\"utf-8\") as afile:\n",
        "        reader = csv.DictReader(afile)\n",
        "        for row in reader:\n",
        "            if row[\"id\"] in ids_in_fileB:  # Check if the ID is in fileB\n",
        "                matching_rows.append({\n",
        "                    \"id\": row[\"id\"],\n",
        "                    \"translated_prompt\": row[\"translated_prompt\"],\n",
        "                    \"cosine_similarity\": row[\"cosine_similarity\"]\n",
        "                })\n",
        "\n",
        "    # Step 3: Write the matching rows to the output file\n",
        "    with open(output_file, mode=\"w\", encoding=\"utf-8\", newline=\"\") as outfile:\n",
        "        fieldnames = [\"id\", \"translated_prompt\", \"cosine_similarity\"]\n",
        "        writer = csv.DictWriter(outfile, fieldnames=fieldnames)\n",
        "\n",
        "        # Write the header\n",
        "        writer.writeheader()\n",
        "\n",
        "        # Write the matching rows\n",
        "        writer.writerows(matching_rows)\n",
        "\n",
        "    print(f\"Extracted {len(matching_rows)} prompts to {output_file}\")\n",
        "\n",
        "fileA = \"/content/drive/MyDrive/CPSC 538P Project (Computer Security)/Translated Prompt V2/bn_translated_prompts_with_similarity.csv\"  # Path to the prompt file (contains id, translated_prompt)\n",
        "fileB = \"/content/drive/MyDrive/CPSC 538P Project (Computer Security)/Translated Prompt V2/cosine_similarities.csv\"  # Path to the file with IDs (contains id)\n",
        "output_file = \"/content/drive/MyDrive/CPSC 538P Project (Computer Security)/Translated Prompt V2/Commons/bn_common_prompts.csv\"  # Path to save the extracted prompts\n",
        "\n",
        "extract_prompts(fileA, fileB, output_file)\n",
        "\n",
        "# Example usage\n",
        "fileA = \"/content/drive/MyDrive/CPSC 538P Project (Computer Security)/Translated Prompt V2/dv_translated_prompts_with_similarity.csv\"  # Path to the prompt file (contains id, translated_prompt)\n",
        "fileB = \"/content/drive/MyDrive/CPSC 538P Project (Computer Security)/Translated Prompt V2/cosine_similarities.csv\"  # Path to the file with IDs (contains id)\n",
        "output_file = \"/content/drive/MyDrive/CPSC 538P Project (Computer Security)/Translated Prompt V2/Commons/dv_common_prompts.csv\"  # Path to save the extracted prompts\n",
        "\n",
        "extract_prompts(fileA, fileB, output_file)\n",
        "\n",
        "# Example usage\n",
        "fileA = \"/content/drive/MyDrive/CPSC 538P Project (Computer Security)/Translated Prompt V2/dz_translated_prompts_with_similarity.csv\"  # Path to the prompt file (contains id, translated_prompt)\n",
        "fileB = \"/content/drive/MyDrive/CPSC 538P Project (Computer Security)/Translated Prompt V2/cosine_similarities.csv\"  # Path to the file with IDs (contains id)\n",
        "output_file = \"/content/drive/MyDrive/CPSC 538P Project (Computer Security)/Translated Prompt V2/Commons/dz_common_prompts.csv\"  # Path to save the extracted prompts\n",
        "\n",
        "extract_prompts(fileA, fileB, output_file)\n",
        "\n",
        "fileA = \"/content/drive/MyDrive/CPSC 538P Project (Computer Security)/Translated Prompt V2/hi_translated_prompts_with_similarity.csv\"  # Path to the prompt file (contains id, translated_prompt)\n",
        "fileB = \"/content/drive/MyDrive/CPSC 538P Project (Computer Security)/Translated Prompt V2/cosine_similarities.csv\"  # Path to the file with IDs (contains id)\n",
        "output_file = \"/content/drive/MyDrive/CPSC 538P Project (Computer Security)/Translated Prompt V2/Commons/hi_common_prompts.csv\"  # Path to save the extracted prompts\n",
        "\n",
        "extract_prompts(fileA, fileB, output_file)\n",
        "\n",
        "fileA = \"/content/drive/MyDrive/CPSC 538P Project (Computer Security)/Translated Prompt V2/ne_translated_prompts_with_similarity.csv\"  # Path to the prompt file (contains id, translated_prompt)\n",
        "fileB = \"/content/drive/MyDrive/CPSC 538P Project (Computer Security)/Translated Prompt V2/cosine_similarities.csv\"  # Path to the file with IDs (contains id)\n",
        "output_file = \"/content/drive/MyDrive/CPSC 538P Project (Computer Security)/Translated Prompt V2/Commons/ne_common_prompts.csv\"  # Path to save the extracted prompts\n",
        "\n",
        "extract_prompts(fileA, fileB, output_file)\n",
        "\n",
        "fileA = \"/content/drive/MyDrive/CPSC 538P Project (Computer Security)/Translated Prompt V2/ps_translated_prompts_with_similarity.csv\"  # Path to the prompt file (contains id, translated_prompt)\n",
        "fileB = \"/content/drive/MyDrive/CPSC 538P Project (Computer Security)/Translated Prompt V2/cosine_similarities.csv\"  # Path to the file with IDs (contains id)\n",
        "output_file = \"/content/drive/MyDrive/CPSC 538P Project (Computer Security)/Translated Prompt V2/Commons/ps_common_prompts.csv\"  # Path to save the extracted prompts\n",
        "\n",
        "extract_prompts(fileA, fileB, output_file)\n",
        "\n",
        "fileA = \"/content/drive/MyDrive/CPSC 538P Project (Computer Security)/Translated Prompt V2/si_translated_prompts_with_similarity.csv\"  # Path to the prompt file (contains id, translated_prompt)\n",
        "fileB = \"/content/drive/MyDrive/CPSC 538P Project (Computer Security)/Translated Prompt V2/cosine_similarities.csv\"  # Path to the file with IDs (contains id)\n",
        "output_file = \"/content/drive/MyDrive/CPSC 538P Project (Computer Security)/Translated Prompt V2/Commons/si_common_prompts.csv\"  # Path to save the extracted prompts\n",
        "\n",
        "extract_prompts(fileA, fileB, output_file)\n",
        "\n",
        "fileA = \"/content/drive/MyDrive/CPSC 538P Project (Computer Security)/Translated Prompt V2/ta_translated_prompts_with_similarity.csv\"  # Path to the prompt file (contains id, translated_prompt)\n",
        "fileB = \"/content/drive/MyDrive/CPSC 538P Project (Computer Security)/Translated Prompt V2/cosine_similarities.csv\"  # Path to the file with IDs (contains id)\n",
        "output_file = \"/content/drive/MyDrive/CPSC 538P Project (Computer Security)/Translated Prompt V2/Commons/ta_common_prompts.csv\"  # Path to save the extracted prompts\n",
        "\n",
        "extract_prompts(fileA, fileB, output_file)\n",
        "\n",
        "fileA = \"/content/drive/MyDrive/CPSC 538P Project (Computer Security)/Translated Prompt V2/ur_translated_prompts_with_similarity.csv\"  # Path to the prompt file (contains id, translated_prompt)\n",
        "fileB = \"/content/drive/MyDrive/CPSC 538P Project (Computer Security)/Translated Prompt V2/cosine_similarities.csv\"  # Path to the file with IDs (contains id)\n",
        "output_file = \"/content/drive/MyDrive/CPSC 538P Project (Computer Security)/Translated Prompt V2/Commons/ur_common_prompts.csv\"  # Path to save the extracted prompts\n",
        "\n",
        "extract_prompts(fileA, fileB, output_file)"
      ],
      "metadata": {
        "id": "ebjF_oRiBVOA",
        "colab": {
          "base_uri": "https://localhost:8080/"
        },
        "outputId": "a3581df6-880c-43df-b480-30500dbb958a"
      },
      "execution_count": null,
      "outputs": [
        {
          "output_type": "stream",
          "name": "stdout",
          "text": [
            "Extracted 446 prompts to /content/drive/MyDrive/CPSC 538P Project (Computer Security)/Translated Prompt V2/Commons/bn_common_prompts.csv\n",
            "Extracted 446 prompts to /content/drive/MyDrive/CPSC 538P Project (Computer Security)/Translated Prompt V2/Commons/dv_common_prompts.csv\n",
            "Extracted 446 prompts to /content/drive/MyDrive/CPSC 538P Project (Computer Security)/Translated Prompt V2/Commons/dz_common_prompts.csv\n",
            "Extracted 446 prompts to /content/drive/MyDrive/CPSC 538P Project (Computer Security)/Translated Prompt V2/Commons/hi_common_prompts.csv\n",
            "Extracted 446 prompts to /content/drive/MyDrive/CPSC 538P Project (Computer Security)/Translated Prompt V2/Commons/ne_common_prompts.csv\n",
            "Extracted 446 prompts to /content/drive/MyDrive/CPSC 538P Project (Computer Security)/Translated Prompt V2/Commons/ps_common_prompts.csv\n",
            "Extracted 446 prompts to /content/drive/MyDrive/CPSC 538P Project (Computer Security)/Translated Prompt V2/Commons/si_common_prompts.csv\n",
            "Extracted 446 prompts to /content/drive/MyDrive/CPSC 538P Project (Computer Security)/Translated Prompt V2/Commons/ta_common_prompts.csv\n",
            "Extracted 446 prompts to /content/drive/MyDrive/CPSC 538P Project (Computer Security)/Translated Prompt V2/Commons/ur_common_prompts.csv\n"
          ]
        }
      ]
    },
    {
      "cell_type": "code",
      "source": [
        "## Extract common english prompt\n",
        "\n",
        "import csv\n",
        "\n",
        "def extract_prompts(fileA, fileB, output_file):\n",
        "    # Step 1: Read the IDs from fileB into a set\n",
        "    ids_in_fileB = set()\n",
        "    with open(fileB, mode=\"r\", encoding=\"utf-8\") as bfile:\n",
        "        reader = csv.DictReader(bfile)\n",
        "        for row in reader:\n",
        "            ids_in_fileB.add(row[\"id\"])  # Assuming 'id' is the column name in fileB\n",
        "\n",
        "    # Step 2: Read fileA and extract rows with matching IDs\n",
        "    matching_rows = []\n",
        "    with open(fileA, mode=\"r\", encoding=\"utf-8\") as afile:\n",
        "        reader = csv.DictReader(afile)\n",
        "        for row in reader:\n",
        "            if row[\"id\"] in ids_in_fileB:  # Check if the ID is in fileB\n",
        "                matching_rows.append({\n",
        "                    \"id\": row[\"id\"],\n",
        "                    \"original_prompt\": row[\"original_prompt\"]\n",
        "                })\n",
        "\n",
        "    # Step 3: Write the matching rows to the output file\n",
        "    with open(output_file, mode=\"w\", encoding=\"utf-8\", newline=\"\") as outfile:\n",
        "        fieldnames = [\"id\", \"original_prompt\"]\n",
        "        writer = csv.DictWriter(outfile, fieldnames=fieldnames)\n",
        "\n",
        "        # Write the header\n",
        "        writer.writeheader()\n",
        "\n",
        "        # Write the matching rows\n",
        "        writer.writerows(matching_rows)\n",
        "\n",
        "    print(f\"Extracted {len(matching_rows)} prompts to {output_file}\")\n",
        "\n",
        "fileA = \"/content/drive/MyDrive/CPSC 538P Project (Computer Security)/Translated Prompt V2/bn_translated_prompts_with_similarity.csv\"  # Path to the prompt file (contains id, translated_prompt)\n",
        "fileB = \"/content/drive/MyDrive/CPSC 538P Project (Computer Security)/Translated Prompt V2/cosine_similarities.csv\"  # Path to the file with IDs (contains id)\n",
        "output_file = \"/content/drive/MyDrive/CPSC 538P Project (Computer Security)/Translated Prompt V2/Commons/en_common_prompts.csv\"  # Path to save the extracted prompts\n",
        "\n",
        "extract_prompts(fileA, fileB, output_file)"
      ],
      "metadata": {
        "colab": {
          "base_uri": "https://localhost:8080/"
        },
        "id": "8I22CenwvbQ_",
        "outputId": "8055014f-d8f5-4cc0-a9eb-42bd5b2184d0"
      },
      "execution_count": null,
      "outputs": [
        {
          "output_type": "stream",
          "name": "stdout",
          "text": [
            "Extracted 446 prompts to /content/drive/MyDrive/CPSC 538P Project (Computer Security)/Translated Prompt V2/Commons/en_common_prompts.csv\n"
          ]
        }
      ]
    },
    {
      "cell_type": "code",
      "source": [
        "from google.colab import drive\n",
        "drive.mount('/content/drive')"
      ],
      "metadata": {
        "colab": {
          "base_uri": "https://localhost:8080/"
        },
        "id": "-mIHBNfbv7IX",
        "outputId": "411cb9b7-ef7e-4534-ab06-06454d4190e2"
      },
      "execution_count": null,
      "outputs": [
        {
          "output_type": "stream",
          "name": "stdout",
          "text": [
            "Mounted at /content/drive\n"
          ]
        }
      ]
    }
  ]
}